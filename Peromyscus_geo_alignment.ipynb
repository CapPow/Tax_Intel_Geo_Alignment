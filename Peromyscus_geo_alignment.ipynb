{
 "cells": [
  {
   "cell_type": "code",
   "execution_count": 1,
   "metadata": {},
   "outputs": [],
   "source": [
    "import time\n",
    "import numpy as np\n",
    "import pandas as pd\n",
    "import geopandas\n",
    "from geopandas.tools import sjoin"
   ]
  },
  {
   "cell_type": "markdown",
   "metadata": {},
   "source": [
    "In short, Peromyscus maniculatus was split into 5 names circa 2019 making it a good MSW test case for tax splitting\n",
    "\n",
    "\n",
    "summerize stats: \n",
    "    mammels: with, without coords\n",
    "        Peromyscus with, without coords\n",
    "            maniculatus with, without coords\n",
    "\n",
    "\n",
    "and overview of interesting fields & their proportion of presence\n",
    "lookup the dynamic properties for additional metrics (i.e., measurements)\n",
    "probabilistic approach wrt morphometrics (if measurements are present)\n",
    "\n",
    "\n",
    "GBIF source citation: \n",
    "\n",
    "GBIF.org (04 June 2021) GBIF Occurrence Download https://doi.org/10.15468/dl.phjg43 \n",
    "\n",
    "Unless GBIF discovers citations of this download, the data file is eligible for deletion after June 4, 2022."
   ]
  },
  {
   "cell_type": "code",
   "execution_count": 2,
   "metadata": {},
   "outputs": [],
   "source": [
    "# a list of the newly split out names (Bradley et. al., 2019)\n",
    "# commented out names are not accepted by MDD\n",
    "name_author = {\"Peromyscus arcticus\" : \"P. arcticus (Wagner 1845)\",\n",
    "                 \"Peromyscus gambelii\" : \"P. gambelii (Baird 1857)\",\n",
    "                 \"Peromyscus labecula\" : \"P. labecula (Elliot 1903)\",\n",
    "                 \"Peromyscus maniculatus\" : \"P. maniculatus (Wagner 1845)\",\n",
    "                 \"Peromyscus sonoriensis\" : \"P. sonoriensis (LeConte 1853)\",\n",
    "              }\n",
    "new_names = list(name_author.keys())"
   ]
  },
  {
   "cell_type": "code",
   "execution_count": 3,
   "metadata": {},
   "outputs": [
    {
     "name": "stderr",
     "output_type": "stream",
     "text": [
      "/home/john/.local/lib/python3.9/site-packages/geopandas/geodataframe.py:577: RuntimeWarning: Sequential read of iterator was interrupted. Resetting iterator. This can negatively impact the performance.\n",
      "  for feature in features_lst:\n"
     ]
    },
    {
     "name": "stdout",
     "output_type": "stream",
     "text": [
      "gdf is projected in: epsg:4326\n"
     ]
    },
    {
     "data": {
      "text/plain": [
       "Index(['sciname', 'order', 'family', 'author', 'year', 'citation',\n",
       "       'rec_source', 'geometry'],\n",
       "      dtype='object')"
      ]
     },
     "metadata": {},
     "output_type": "display_data"
    }
   ],
   "source": [
    "# load in the range maps geopackage\n",
    "gdf = geopandas.read_file(\"MDD_Rodentia_NAm_393species.gpkg\")\n",
    "\n",
    "# restrict the gdf to those ranges of interest\n",
    "gdf = gdf[gdf['sciname'].isin(new_names)].copy()\n",
    "\n",
    "# calculate area for everything\n",
    "gdf.sindex # prepare spatial index\n",
    "\n",
    "# check gdf projection\n",
    "print(f\"gdf is projected in: {gdf.crs}\")\n",
    "\n",
    "# examine availble gdf columns\n",
    "display(gdf.columns)"
   ]
  },
  {
   "cell_type": "code",
   "execution_count": 4,
   "metadata": {},
   "outputs": [
    {
     "name": "stdout",
     "output_type": "stream",
     "text": [
      "(184271, 251)\n"
     ]
    }
   ],
   "source": [
    "# load in occurence data\n",
    "occ = pd.read_csv(\"gbif_occurrences/0294669-200613084148143/occurrence.txt\", sep='\\t', header=0, low_memory=False)\n",
    "\n",
    "# clean out incorrect coords.\n",
    "occ = occ[occ['decimalLongitude'] < 0]\n",
    "\n",
    "occ.reset_index(drop=True, inplace=True)\n",
    "\n",
    "# might be able to skip the pandas df to gdf by directly loading to geopandas.\n",
    "occ = geopandas.GeoDataFrame(occ, geometry=geopandas.points_from_xy(occ['decimalLongitude'], occ['decimalLatitude']))\n",
    "occ = occ.set_crs(\"EPSG:4326\")\n",
    "\n",
    "print(occ.shape)"
   ]
  },
  {
   "cell_type": "markdown",
   "metadata": {},
   "source": [
    "#### use spatial join to for point-in-polygon checks"
   ]
  },
  {
   "cell_type": "code",
   "execution_count": 5,
   "metadata": {
    "scrolled": true
   },
   "outputs": [
    {
     "name": "stdout",
     "output_type": "stream",
     "text": [
      "started process at: Mon Jun 14 17:20:07 2021\n",
      "Peromyscus arcticus\n",
      "Peromyscus gambelii\n",
      "Peromyscus labecula\n",
      "Peromyscus maniculatus\n",
      "Peromyscus sonoriensis\n",
      "finished process at: Mon Jun 14 17:20:52 2021\n",
      "ratio of occurrences resulting in one suggestion: 0.9017208350744285\n",
      "ratio of occurrences resulting in two suggestions 0.03659284423484976\n",
      "total number of occurrences resulting in >1 suggestions: 0\n",
      "total number of occurrences resulting in no suggestion: 11367\n",
      "       ratio of occurrences resulting in no suggestion: 0.061686320690721816\n"
     ]
    }
   ],
   "source": [
    "print(f\"started process at: {time.ctime()}\")\n",
    "\n",
    "occ['suggested_names'] = \"\"\n",
    "for sci in gdf['sciname'].unique():\n",
    "    print(sci)\n",
    "    sub = gdf[gdf['sciname']==sci] #target taxa rank\n",
    "    within_points = geopandas.sjoin(occ, sub, op = 'within').index\n",
    "    occ.loc[occ.index[within_points], 'suggested_names'] += f\" | {name_author.get(sci, sci)}\"\n",
    "\n",
    "# clean the leading \" | \" from suggested_names\n",
    "occ['suggested_names'] = occ['suggested_names'].str.lstrip(\" | \")\n",
    "\n",
    "# combine those with multiple suggestions for ease of visualization\n",
    "occ.loc[occ['suggested_names'].str.count(\"\\|\") == 1, 'suggested_names'] = \"two suggested names\"\n",
    "occ.loc[occ['suggested_names'].str.count(\"\\|\") > 1, 'suggested_names'] = \"more than two suggested names\"\n",
    "\n",
    "# fill any empty suggestions\n",
    "occ.loc[occ['suggested_names']==\"\", 'suggested_names'] = \"out of range\"\n",
    "\n",
    "print(f\"finished process at: {time.ctime()}\")\n",
    "occ.to_csv(\"peromyscus_concepts.csv\", index=False)\n",
    "\n",
    "# generalize the outcomes\n",
    "x = len(occ[occ['suggested_names'].isin(name_author.values())])\n",
    "print(f\"ratio of occurrences resulting in one suggestion: {(x / len(occ))}\")\n",
    "\n",
    "# multiple suggested names are delimited by \"|\"\n",
    "x = len(occ[occ['suggested_names'] == \"two suggested names\"])\n",
    "print(f\"ratio of occurrences resulting in two suggestions {(x / len(occ))}\")\n",
    "\n",
    "x = len(occ[occ['suggested_names']== \"more than two suggested names\"])\n",
    "print(f\"total number of occurrences resulting in >1 suggestions: {x}\")\n",
    "\n",
    "x = len(occ[occ['suggested_names']== \"out of range\"])\n",
    "print(f\"total number of occurrences resulting in no suggestion: {x}\")\n",
    "print(f\"       ratio of occurrences resulting in no suggestion: {(x / len(occ))}\")"
   ]
  },
  {
   "cell_type": "markdown",
   "metadata": {},
   "source": [
    "#### evaluate computation times when using buffered points"
   ]
  },
  {
   "cell_type": "code",
   "execution_count": 6,
   "metadata": {},
   "outputs": [
    {
     "name": "stdout",
     "output_type": "stream",
     "text": [
      "Total rows with null uncertainty values: 91247\n",
      "    out of 184271\n",
      "started process at: Mon Jun 14 17:22:14 2021\n",
      "Peromyscus arcticus\n",
      "Peromyscus gambelii\n",
      "Peromyscus labecula\n",
      "Peromyscus maniculatus\n",
      "Peromyscus sonoriensis\n",
      "finished process at: Mon Jun 14 17:37:24 2021\n",
      "ratio of occurrences resulting in one suggestion: 0.8847892506145839\n",
      "ratio of occurrences resulting in two suggestions 0.0363594922695378\n",
      "total number of occurrences resulting in >1 suggestions: 0\n",
      "total number of occurrences resulting in no suggestion: 14530\n",
      "       ratio of occurrences resulting in no suggestion: 0.07885125711587825\n"
     ]
    }
   ],
   "source": [
    "buffered_occ = occ.copy()\n",
    "\n",
    "null_query = pd.isnull(buffered_occ['coordinateUncertaintyInMeters'])\n",
    "print(f\"Total rows with null uncertainty values: {len(buffered_occ[null_query])}\")\n",
    "print(f\"    out of {len(buffered_occ)}\")\n",
    "\n",
    "    \n",
    "print(f\"started process at: {time.ctime()}\")\n",
    "\n",
    "# set nulls uncertainties to mininum of 5m buffer\n",
    "buffered_occ.loc[null_query, 'coordinateUncertaintyInMeters'] = 5\n",
    "# specific projection can be evaluated later, the goal here is to check computation time.\n",
    "buffered_occ = buffered_occ.to_crs(epsg=3763)\n",
    "buffered_occ['geometry'] = buffered_occ['geometry'].buffer(buffered_occ['coordinateUncertaintyInMeters'])\n",
    "projected_gdf = gdf.copy()\n",
    "projected_gdf = projected_gdf.to_crs(epsg=3763)\n",
    "\n",
    "buffered_occ['suggested_names'] = \"\"\n",
    "for sci in gdf['sciname'].unique():\n",
    "    print(sci)\n",
    "    sub = projected_gdf[projected_gdf['sciname']==sci] #target taxa rank\n",
    "    within_points = geopandas.sjoin(buffered_occ, sub, op = 'within').index\n",
    "    buffered_occ.loc[buffered_occ.index[within_points], 'suggested_names'] += f\" | {name_author.get(sci, sci)}\"\n",
    "\n",
    "# clean the leading \" | \" from suggested_names\n",
    "buffered_occ['suggested_names'] = buffered_occ['suggested_names'].str.lstrip(\" | \")\n",
    "\n",
    "# combine those with multiple suggestions for ease of visualization\n",
    "buffered_occ.loc[buffered_occ['suggested_names'].str.count(\"\\|\") == 1, 'suggested_names'] = \"two suggested names\"\n",
    "buffered_occ.loc[buffered_occ['suggested_names'].str.count(\"\\|\") > 1, 'suggested_names'] = \"more than two suggested names\"\n",
    "\n",
    "# fill any empty suggestions\n",
    "buffered_occ.loc[buffered_occ['suggested_names']==\"\", 'suggested_names'] = \"out of range\"\n",
    "\n",
    "print(f\"finished process at: {time.ctime()}\")\n",
    "\n",
    "# generalize the outcomes\n",
    "x = len(buffered_occ[buffered_occ['suggested_names'].isin(name_author.values())])\n",
    "print(f\"ratio of occurrences resulting in one suggestion: {(x / len(buffered_occ))}\")\n",
    "\n",
    "# multiple suggested names are delimited by \"|\"\n",
    "x = len(buffered_occ[buffered_occ['suggested_names'] == \"two suggested names\"])\n",
    "print(f\"ratio of occurrences resulting in two suggestions {(x / len(buffered_occ))}\")\n",
    "\n",
    "x = len(buffered_occ[buffered_occ['suggested_names']== \"more than two suggested names\"])\n",
    "print(f\"total number of occurrences resulting in >1 suggestions: {x}\")\n",
    "\n",
    "x = len(buffered_occ[buffered_occ['suggested_names']== \"out of range\"])\n",
    "print(f\"total number of occurrences resulting in no suggestion: {x}\")\n",
    "print(f\"       ratio of occurrences resulting in no suggestion: {(x / len(buffered_occ))}\")\n",
    "\n",
    "# clean up the variables used to test runtimes of buffered methods\n",
    "del buffered_occ\n",
    "del projected_gdf"
   ]
  },
  {
   "cell_type": "markdown",
   "metadata": {},
   "source": [
    "#### evaluate computation times when using buffered ranges\n",
    "\n",
    "Note: This test was eventually halted due to time constraints. Calculating range buffers could be done ahead of time to circumvent any added computation times during disambiguation. Keeping the section present but commented out for future reference."
   ]
  },
  {
   "cell_type": "code",
   "execution_count": 7,
   "metadata": {},
   "outputs": [],
   "source": [
    "# print(f\"started process at: {time.ctime()}\")\n",
    "\n",
    "# projected_occ = occ.copy()\n",
    "# # operate on a sample due to the increased computation time\n",
    "# projected_occ = projected_occ.sample(5000)\n",
    "\n",
    "# # specific projection can be evaluated later, the goal here is to check computation time.\n",
    "# projected_occ = projected_occ.to_crs(epsg=3763)\n",
    "\n",
    "# buffered_gdf = gdf.to_crs(epsg=3763)\n",
    "# buffered_gdf['geometry'] = buffered_gdf['geometry'].buffer(-100) # use neg value buffer to shrink the range polygon\n",
    "\n",
    "# buffered_occ['suggested_names'] = \"\"\n",
    "# for sci in gdf['sciname'].unique():\n",
    "#     print(sci)\n",
    "#     sub = buffered_gdf[buffered_gdf['sciname']==sci] #target taxa rank\n",
    "#     within_points = geopandas.sjoin(projected_occ, sub, op = 'within').index\n",
    "#     projected_occ.loc[projected_occ.index[within_points], 'suggested_names'] += f\" | {name_author.get(sci, sci)}\"\n",
    "\n",
    "# # clean the leading \" | \" from suggested_names\n",
    "# projected_occ['suggested_names'] = projected_occ['suggested_names'].str.lstrip(\" | \")\n",
    "\n",
    "# # combine those with multiple suggestions for ease of visualization\n",
    "# projected_occ.loc[projected_occ['suggested_names'].str.count(\"\\|\") == 1, 'suggested_names'] = \"two suggested names\"\n",
    "# projected_occ.loc[projected_occ['suggested_names'].str.count(\"\\|\") > 1, 'suggested_names'] = \"more than two suggested names\"\n",
    "\n",
    "# # fill any empty suggestions\n",
    "# projected_occ.loc[projected_occ['suggested_names']==\"\", 'suggested_names'] = \"out of range\"\n",
    "\n",
    "# print(f\"finished process at: {time.ctime()}\")\n",
    "\n",
    "# # generalize the outcomes\n",
    "# x = len(projected_occ[projected_occ['suggested_names'].isin(name_author.values())])\n",
    "# print(f\"ratio of occurrences resulting in one suggestion: {(x / len(buffered_occ))}\")\n",
    "\n",
    "# # multiple suggested names are delimited by \"|\"\n",
    "# x = len(projected_occ[projected_occ['suggested_names'] == \"two suggested names\"])\n",
    "# print(f\"ratio of occurrences resulting in two suggestions {(x / len(buffered_occ))}\")\n",
    "\n",
    "# x = len(projected_occ[projected_occ['suggested_names']== \"more than two suggested names\"])\n",
    "# print(f\"total number of occurrences resulting in >1 suggestions: {x}\")\n",
    "\n",
    "# x = len(projected_occ[projected_occ['suggested_names']== \"out of range\"])\n",
    "# print(f\"total number of occurrences resulting in no suggestion: {x}\")\n",
    "# print(f\"       ratio of occurrences resulting in no suggestion: {(x / len(buffered_occ))}\")\n",
    "\n",
    "# # clean up the variables used to test runtimes of buffered methods\n",
    "# del projected_occ\n",
    "# del buffered_gdf"
   ]
  },
  {
   "cell_type": "markdown",
   "metadata": {},
   "source": [
    "#### Summarise and validate the outcomes\n"
   ]
  },
  {
   "cell_type": "markdown",
   "metadata": {},
   "source": [
    "The goal of this section is to quantify how frequently the names we suggest align with the suggestions presented in the Appendix of Bradley et. al., 2019. To do this:\n",
    "- the appendix was extracted as a CSV from the PDF\n",
    "- the catalog numbers (i.e., \"Museum\") in the appendix were aligned for the format used in GBIF\n",
    "- the records Bradley et. al. was uncertain of (i.e., \"Peromyscus sp.\") were omitted from the appendix \n",
    "- the gbif derived occurrence records were then inner joined with the appendix records based on the aligned\n",
    "- a 0/1 boolean column is derived which identifies if the names this process suggests (i.e., 'suggested_names') are equal to the names the appendix listed."
   ]
  },
  {
   "cell_type": "code",
   "execution_count": 8,
   "metadata": {},
   "outputs": [
    {
     "data": {
      "text/plain": [
       "['P. sonoriensis (LeConte 1853)',\n",
       " 'P. maniculatus (Wagner 1845)',\n",
       " 'out of range',\n",
       " 'P. gambelii (Baird 1857)',\n",
       " 'two suggested names',\n",
       " 'P. labecula (Elliot 1903)',\n",
       " 'P. arcticus (Wagner 1845)']"
      ]
     },
     "execution_count": 8,
     "metadata": {},
     "output_type": "execute_result"
    }
   ],
   "source": [
    "occ['suggested_names'].unique().tolist()"
   ]
  },
  {
   "cell_type": "code",
   "execution_count": 9,
   "metadata": {},
   "outputs": [
    {
     "name": "stdout",
     "output_type": "stream",
     "text": [
      "Museum column from appenxis of Bradley et. al. 2019\n"
     ]
    },
    {
     "data": {
      "text/plain": [
       "589    MSB 90220\n",
       "158     UAM20662\n",
       "577    MSB 75495\n",
       "554    TTU 62040\n",
       "143    UAM 74970\n",
       "Name: Museum, dtype: object"
      ]
     },
     "metadata": {},
     "output_type": "display_data"
    },
    {
     "name": "stdout",
     "output_type": "stream",
     "text": [
      "catalogNumber column from GBIF occurrence records (aka: 'occ')\n"
     ]
    },
    {
     "data": {
      "text/plain": [
       "121272                     41134\n",
       "45654     RSKM_OWLPELLET_OP-4883\n",
       "39622     RSKM_OWLPELLET_OP-8671\n",
       "167085           MSB:Mamm:112470\n",
       "92028             UAM:Mamm:51984\n",
       "Name: catalogNumber, dtype: object"
      ]
     },
     "metadata": {},
     "output_type": "display_data"
    },
    {
     "data": {
      "text/plain": [
       "array(['MSB', 'TTU', 'MVZ', 'WM', 'HGPeke', 'UAM', 'UWBM', 'UAM23437',\n",
       "       'UAM23438', 'UAM31104', 'UAM48129', 'UAM49643', 'UAM23667',\n",
       "       'UAM43024', 'UAM23775', 'UAM20620', 'UAM20662', 'UAM20664',\n",
       "       'UAM23657', 'UAM23658', 'UAM23730', 'UAM23771', 'UAM23773',\n",
       "       'UAM30343', 'UAM30590', 'UAM30819', 'UAM30873', 'UAM31105',\n",
       "       'UAM31106', 'UAM35318', 'UAM42578', 'UAM42579', 'UAM43469',\n",
       "       'UAM44887', 'UAM50436', 'UAM52310', 'UAM60272', 'UAM74125',\n",
       "       'UAM74128', 'UAM74131', 'UAM76238', 'UAM76353', 'UAM76821',\n",
       "       'UAM76822', 'UAM23106', 'OSM', 'CM', 'CM109317', 'SP', 'CM109548',\n",
       "       'NK', 'CRD', 'JFS', 'CLP1113', 'CLP1114', 'CLP1116', 'CLP1117',\n",
       "       'CLP1118', 'CLP1119', 'CLP1120', 'CLP1121', 'CLP1122', 'CLP1123',\n",
       "       'CLP1124', 'CLP1125', 'CLP1126', 'CIB', 'MSB156182', 'MSB156150',\n",
       "       'MSB156183', 'MSB83399', 'MSB83409', 'MSB83419', 'MSB83417',\n",
       "       'MSB156370', 'MSB156589', 'MSB56704', 'MSB56705', 'MSB56706',\n",
       "       'MSB156364', 'MSB156365', 'MSB192748', 'EAR', 'BYU', 'Unvouchered',\n",
       "       'UAM52705', 'MSB144216', 'MSB144284', 'MSB145572', 'MSB149206',\n",
       "       'MSB240539', 'MSB144217', 'MSB240553', 'MSB144263', 'MSB144264',\n",
       "       'MSB145250', 'MSB145618', 'MSB145637', 'MSB145713', 'MSB144265',\n",
       "       'MSB149203', 'MSB149204', 'MSB149205', 'MSB149207', 'MSB149208',\n",
       "       'MSB149213', 'Jonesboro', 'TK'], dtype=object)"
      ]
     },
     "metadata": {},
     "output_type": "display_data"
    }
   ],
   "source": [
    "# The appendix table from Bradley et. al. 2019 was parsed out into the csv file below.\n",
    "# parsing was done using table selection tool from: Okular version 21.04.0\n",
    "\n",
    "Bradley_appendix = pd.read_csv(\"Bradley_2019_appendix.csv\")\n",
    "# table selection has left a single hanging whitespace in each value, so clean it column by column.\n",
    "# column names were manually cleaned from csv.\n",
    "for col in Bradley_appendix.columns:\n",
    "    Bradley_appendix[col] = Bradley_appendix[col].str.strip()\n",
    "\n",
    "# Bradley's Museum column should closely map to occ's \"catalogNumber\"\n",
    "# examine samples of each to validate that.\n",
    "\n",
    "print(\"Museum column from appenxis of Bradley et. al. 2019\")\n",
    "display(Bradley_appendix['Museum'].sample(5)) # examine \"Museum\" column\n",
    "\n",
    "print(\"catalogNumber column from GBIF occurrence records (aka: 'occ')\")\n",
    "display(occ['catalogNumber'].sample(5)) # examine \"catalogNumbers\"\n",
    "\n",
    "# 'Museum' column frequently includes a space between a catalog number and a museum abbreviation\n",
    "# split each value in 'Museum' on white space, keep the first element as a museum abbreviation\n",
    "abbreviations = Bradley_appendix['Museum'].str.split().str[0].unique()\n",
    "display(abbreviations) # examine the abbreviations, and derive a simplified list\n",
    "\n",
    "# simplified the list based on the displayed abbreviations\n",
    "abbreviations = ['MSB', 'TTU', 'MVZ', 'WM', 'HGPeke', 'UAM',\n",
    "                 'UWBM', 'OSM', 'CM', 'SP', 'NK', 'CRD', 'JFS',\n",
    "                 'CIB', 'EAR', 'BYU', 'TK', 'Jonesboro']"
   ]
  },
  {
   "cell_type": "code",
   "execution_count": 10,
   "metadata": {},
   "outputs": [
    {
     "name": "stdout",
     "output_type": "stream",
     "text": [
      "Bradley's 'Museum' represents MSB as: MSB 151511\n",
      "occ 'catalogNumber' represents MSB as: MSB:Mamm:256706\n",
      "\n",
      "Bradley's 'Museum' represents MVZ as: MVZ 208028\n",
      "occ 'catalogNumber' represents MVZ as: MVZ:Mamm:171805\n",
      "\n",
      "Bradley's 'Museum' represents UAM as: UAM 31107\n",
      "occ 'catalogNumber' represents UAM as: UAM:Mamm:71549\n",
      "\n",
      "Bradley's 'Museum' represents UWBM as: UWBM 75436\n",
      "occ 'catalogNumber' represents UWBM as: UWBM:Mamm:49307\n",
      "\n",
      "Bradley's 'Museum' represents CM as: CM 109407\n",
      "occ 'catalogNumber' represents CM as: UCM:Mamm:20859\n",
      "\n"
     ]
    }
   ],
   "source": [
    "# iterate over each abbreviation to find which are present among occ's catalogNumber\n",
    "present_abbreviations = [] # container to hold the results\n",
    "for abb in abbreviations:\n",
    "    qty_present = len(occ[occ['catalogNumber'].str.contains(abb)]['catalogNumber'])\n",
    "    if qty_present > 0:\n",
    "        present_abbreviations.append(abb)\n",
    "\n",
    "# finally examine the mapping from Bradley's appendix to GBIF's (occ) catalogNumber\n",
    "for abb in present_abbreviations:\n",
    "    sample = Bradley_appendix[Bradley_appendix['Museum'].str.contains(abb)]['Museum'].sample(1).tolist()[0]\n",
    "    print(f\"Bradley's 'Museum' represents {abb} as: {sample}\")\n",
    "    \n",
    "    sample = occ[occ['catalogNumber'].str.contains(abb)]['catalogNumber'].sample(1).tolist()[0]\n",
    "    print(f\"occ 'catalogNumber' represents {abb} as: {sample}\")\n",
    "    print()\n",
    "\n",
    "# among those results, it looks like \"UCM:Mamm:#####\" is a false posative for \"CM ######\"\n",
    "# remove CM from the list of present_abbreviations\n",
    "present_abbreviations.remove(\"CM\")"
   ]
  },
  {
   "cell_type": "code",
   "execution_count": 11,
   "metadata": {},
   "outputs": [
    {
     "name": "stdout",
     "output_type": "stream",
     "text": [
      "mapped_records shape: (205, 8)\n"
     ]
    },
    {
     "data": {
      "text/html": [
       "<div>\n",
       "<style scoped>\n",
       "    .dataframe tbody tr th:only-of-type {\n",
       "        vertical-align: middle;\n",
       "    }\n",
       "\n",
       "    .dataframe tbody tr th {\n",
       "        vertical-align: top;\n",
       "    }\n",
       "\n",
       "    .dataframe thead th {\n",
       "        text-align: right;\n",
       "    }\n",
       "</style>\n",
       "<table border=\"1\" class=\"dataframe\">\n",
       "  <thead>\n",
       "    <tr style=\"text-align: right;\">\n",
       "      <th></th>\n",
       "      <th>catalogNumber</th>\n",
       "      <th>Bradley_museum</th>\n",
       "      <th>GenBank</th>\n",
       "      <th>gbifID</th>\n",
       "      <th>GBIF_name</th>\n",
       "      <th>Bradley_name</th>\n",
       "      <th>suggested_names</th>\n",
       "      <th>name_agreement</th>\n",
       "    </tr>\n",
       "  </thead>\n",
       "  <tbody>\n",
       "    <tr>\n",
       "      <th>17</th>\n",
       "      <td>MVZ:Mamm:207857</td>\n",
       "      <td>MVZ 207857</td>\n",
       "      <td>EF666151</td>\n",
       "      <td>1145785190</td>\n",
       "      <td>Peromyscus maniculatus (Wagner, 1845)</td>\n",
       "      <td>Peromyscus gambelii</td>\n",
       "      <td>out of range</td>\n",
       "      <td>0</td>\n",
       "    </tr>\n",
       "    <tr>\n",
       "      <th>189</th>\n",
       "      <td>MSB:Mamm:72135</td>\n",
       "      <td>MSB 72135</td>\n",
       "      <td>DQ385688</td>\n",
       "      <td>1145362964</td>\n",
       "      <td>Peromyscus maniculatus (Wagner, 1845)</td>\n",
       "      <td>Peromyscus sonoriensis</td>\n",
       "      <td>Peromyscus sonoriensis</td>\n",
       "      <td>1</td>\n",
       "    </tr>\n",
       "    <tr>\n",
       "      <th>121</th>\n",
       "      <td>MSB:Mamm:74885</td>\n",
       "      <td>MSB 74885</td>\n",
       "      <td>DQ385672</td>\n",
       "      <td>1145366013</td>\n",
       "      <td>Peromyscus maniculatus (Wagner, 1845)</td>\n",
       "      <td>Peromyscus sonoriensis</td>\n",
       "      <td>Peromyscus sonoriensis</td>\n",
       "      <td>1</td>\n",
       "    </tr>\n",
       "  </tbody>\n",
       "</table>\n",
       "</div>"
      ],
      "text/plain": [
       "       catalogNumber Bradley_museum   GenBank      gbifID  \\\n",
       "17   MVZ:Mamm:207857     MVZ 207857  EF666151  1145785190   \n",
       "189   MSB:Mamm:72135      MSB 72135  DQ385688  1145362964   \n",
       "121   MSB:Mamm:74885      MSB 74885  DQ385672  1145366013   \n",
       "\n",
       "                                 GBIF_name            Bradley_name  \\\n",
       "17   Peromyscus maniculatus (Wagner, 1845)     Peromyscus gambelii   \n",
       "189  Peromyscus maniculatus (Wagner, 1845)  Peromyscus sonoriensis   \n",
       "121  Peromyscus maniculatus (Wagner, 1845)  Peromyscus sonoriensis   \n",
       "\n",
       "            suggested_names  name_agreement  \n",
       "17             out of range               0  \n",
       "189  Peromyscus sonoriensis               1  \n",
       "121  Peromyscus sonoriensis               1  "
      ]
     },
     "metadata": {},
     "output_type": "display_data"
    }
   ],
   "source": [
    "def mus_to_cat(museum_acc_number):\n",
    "    \"\"\"\n",
    "    a function used to convert museum accession numbers extracted from the appenxid of Bradly et. al. 2019\n",
    "    into the format used for GBIF's (occ) catalogNumber\n",
    "    \"\"\"\n",
    "    return \":Mamm:\".join(museum_acc_number.split())\n",
    "\n",
    "# filter records in which Bradley_appendix is uncertain of a name\n",
    "Bradley_appendix = Bradley_appendix[Bradley_appendix['sciName'] != 'Peromyscus sp.']\n",
    "\n",
    "# filter the Bradley_appendix based on presence of a present_abbreviations in 'Museum'\n",
    "abb_pattern = '|'.join(r\"\\b{}\\b\".format(x) for x in present_abbreviations)\n",
    "Bradley_appendix = Bradley_appendix[Bradley_appendix['Museum'].str.contains(abb_pattern)]\n",
    "# transform \"Museum\" col into GBIF-ish format using mus_to_cat\n",
    "Bradley_appendix['catalogNumber'] = Bradley_appendix['Museum'].apply(mus_to_cat)\n",
    "\n",
    "trimmed_Bradley_appendix = Bradley_appendix[['catalogNumber', 'Museum', 'GenBank', 'sciName']]\n",
    "trimmed_occ = occ[['gbifID', 'catalogNumber', 'scientificName', 'suggested_names']]\n",
    "\n",
    "mapped_records = trimmed_Bradley_appendix.merge(trimmed_occ,\n",
    "                                                on='catalogNumber', \n",
    "                                                suffixes=('_Bradley', '_GBIF'))\n",
    "\n",
    "mapped_records.rename({'sciName':'Bradley_name',\n",
    "                       'Museum':'Bradley_museum',\n",
    "                      'scientificName':'GBIF_name'}, axis=1, inplace=True)\n",
    "\n",
    "# reverse the sci_name conversion for mapping names to Bradley\n",
    "author_name = {v:k for k, v in name_author.items()}\n",
    "mapped_records['suggested_names'] = mapped_records['suggested_names'].apply(lambda x: author_name.get(x,x))\n",
    "\n",
    "# generate a \"name_agreement\" column for simplicity\n",
    "mapped_records['name_agreement'] = mapped_records['Bradley_name'] == mapped_records['suggested_names']\n",
    "mapped_records['name_agreement'] = mapped_records['name_agreement'].astype(int)\n",
    "\n",
    "# reorder columns to preference\n",
    "mapped_records = mapped_records[['catalogNumber', 'Bradley_museum', 'GenBank', 'gbifID',\n",
    "                                 'GBIF_name', 'Bradley_name', 'suggested_names', 'name_agreement']]\n",
    "\n",
    "# examine the result & shape\n",
    "print(f\"mapped_records shape: {mapped_records.shape}\")\n",
    "display(mapped_records.sample(3))\n",
    "# write out the results\n",
    "mapped_records.to_csv('geo_align_validation.csv', index=False)"
   ]
  },
  {
   "cell_type": "code",
   "execution_count": 12,
   "metadata": {},
   "outputs": [
    {
     "data": {
      "text/html": [
       "<div>\n",
       "<style scoped>\n",
       "    .dataframe tbody tr th:only-of-type {\n",
       "        vertical-align: middle;\n",
       "    }\n",
       "\n",
       "    .dataframe tbody tr th {\n",
       "        vertical-align: top;\n",
       "    }\n",
       "\n",
       "    .dataframe thead th {\n",
       "        text-align: right;\n",
       "    }\n",
       "</style>\n",
       "<table border=\"1\" class=\"dataframe\">\n",
       "  <thead>\n",
       "    <tr style=\"text-align: right;\">\n",
       "      <th></th>\n",
       "      <th>count</th>\n",
       "      <th>mean</th>\n",
       "      <th>std</th>\n",
       "      <th>min</th>\n",
       "      <th>25%</th>\n",
       "      <th>50%</th>\n",
       "      <th>75%</th>\n",
       "      <th>max</th>\n",
       "    </tr>\n",
       "    <tr>\n",
       "      <th>suggested_names</th>\n",
       "      <th></th>\n",
       "      <th></th>\n",
       "      <th></th>\n",
       "      <th></th>\n",
       "      <th></th>\n",
       "      <th></th>\n",
       "      <th></th>\n",
       "      <th></th>\n",
       "    </tr>\n",
       "  </thead>\n",
       "  <tbody>\n",
       "    <tr>\n",
       "      <th>Peromyscus arcticus</th>\n",
       "      <td>2.0</td>\n",
       "      <td>0.00000</td>\n",
       "      <td>0.000000</td>\n",
       "      <td>0.0</td>\n",
       "      <td>0.0</td>\n",
       "      <td>0.0</td>\n",
       "      <td>0.0</td>\n",
       "      <td>0.0</td>\n",
       "    </tr>\n",
       "    <tr>\n",
       "      <th>Peromyscus gambelii</th>\n",
       "      <td>11.0</td>\n",
       "      <td>1.00000</td>\n",
       "      <td>0.000000</td>\n",
       "      <td>1.0</td>\n",
       "      <td>1.0</td>\n",
       "      <td>1.0</td>\n",
       "      <td>1.0</td>\n",
       "      <td>1.0</td>\n",
       "    </tr>\n",
       "    <tr>\n",
       "      <th>Peromyscus maniculatus</th>\n",
       "      <td>8.0</td>\n",
       "      <td>0.37500</td>\n",
       "      <td>0.517549</td>\n",
       "      <td>0.0</td>\n",
       "      <td>0.0</td>\n",
       "      <td>0.0</td>\n",
       "      <td>1.0</td>\n",
       "      <td>1.0</td>\n",
       "    </tr>\n",
       "    <tr>\n",
       "      <th>Peromyscus sonoriensis</th>\n",
       "      <td>119.0</td>\n",
       "      <td>0.92437</td>\n",
       "      <td>0.265524</td>\n",
       "      <td>0.0</td>\n",
       "      <td>1.0</td>\n",
       "      <td>1.0</td>\n",
       "      <td>1.0</td>\n",
       "      <td>1.0</td>\n",
       "    </tr>\n",
       "    <tr>\n",
       "      <th>out of range</th>\n",
       "      <td>65.0</td>\n",
       "      <td>0.00000</td>\n",
       "      <td>0.000000</td>\n",
       "      <td>0.0</td>\n",
       "      <td>0.0</td>\n",
       "      <td>0.0</td>\n",
       "      <td>0.0</td>\n",
       "      <td>0.0</td>\n",
       "    </tr>\n",
       "  </tbody>\n",
       "</table>\n",
       "</div>"
      ],
      "text/plain": [
       "                        count     mean       std  min  25%  50%  75%  max\n",
       "suggested_names                                                          \n",
       "Peromyscus arcticus       2.0  0.00000  0.000000  0.0  0.0  0.0  0.0  0.0\n",
       "Peromyscus gambelii      11.0  1.00000  0.000000  1.0  1.0  1.0  1.0  1.0\n",
       "Peromyscus maniculatus    8.0  0.37500  0.517549  0.0  0.0  0.0  1.0  1.0\n",
       "Peromyscus sonoriensis  119.0  0.92437  0.265524  0.0  1.0  1.0  1.0  1.0\n",
       "out of range             65.0  0.00000  0.000000  0.0  0.0  0.0  0.0  0.0"
      ]
     },
     "execution_count": 12,
     "metadata": {},
     "output_type": "execute_result"
    }
   ],
   "source": [
    "mapped_records.groupby(\"suggested_names\").describe()['name_agreement']"
   ]
  },
  {
   "cell_type": "code",
   "execution_count": null,
   "metadata": {},
   "outputs": [],
   "source": []
  }
 ],
 "metadata": {
  "kernelspec": {
   "display_name": "Python 3",
   "language": "python",
   "name": "python3"
  },
  "language_info": {
   "codemirror_mode": {
    "name": "ipython",
    "version": 3
   },
   "file_extension": ".py",
   "mimetype": "text/x-python",
   "name": "python",
   "nbconvert_exporter": "python",
   "pygments_lexer": "ipython3",
   "version": "3.9.5"
  }
 },
 "nbformat": 4,
 "nbformat_minor": 4
}
